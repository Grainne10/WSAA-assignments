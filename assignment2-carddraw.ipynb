{
 "cells": [
  {
   "cell_type": "markdown",
   "metadata": {},
   "source": [
    "## Assignment 2 Card Draw\n",
    "### Grainne Boyle\n",
    "#### Task - Create a jupyter notebook called assignment2_cardraw.ipynb . This task is to send a HTTP request to an API and retrieve data, parse the JSON result and print the result."
   ]
  },
  {
   "cell_type": "code",
   "execution_count": 66,
   "metadata": {},
   "outputs": [
    {
     "name": "stdout",
     "output_type": "stream",
     "text": [
      "Success!\n"
     ]
    }
   ],
   "source": [
    "#The first step is to import requests\n",
    "\n",
    "import requests\n",
    "\n",
    "# This will display the images from the cards :\n",
    "\n",
    "from IPython.display import Image, display\n",
    "\n",
    "# The first step pulls in and shuffles one deck of cards\n",
    "\n",
    "response = requests.get(\"https://deckofcardsapi.com/api/deck/new/shuffle/?deck_count=1\")\n",
    "\n",
    "# We can check if it works by checking the status code , 200 means that it is a success and 404 means it was not found.\n",
    "\n",
    "if response.status_code == 200:\n",
    "    print(\"Success!\")\n",
    "elif response.status_code == 404:\n",
    "    print(\"Not Found.\")\n",
    "\n",
    "\n",
    "# https://realpython.com/python-requests/ This explains how to to import and get requests.\n",
    "\n",
    "# https://www.reddit.com/r/learnpython/comments/coho06/displaying_picture_from_api_in_jupyter_notebook/ This shows you how to import an image \n"
   ]
  },
  {
   "cell_type": "code",
   "execution_count": 67,
   "metadata": {},
   "outputs": [
    {
     "data": {
      "text/plain": [
       "'application/json'"
      ]
     },
     "execution_count": 67,
     "metadata": {},
     "output_type": "execute_result"
    }
   ],
   "source": [
    "# This tells me that the response in a json format\n",
    "response.headers['Content-Type']"
   ]
  },
  {
   "cell_type": "code",
   "execution_count": 68,
   "metadata": {},
   "outputs": [
    {
     "name": "stdout",
     "output_type": "stream",
     "text": [
      "{'success': True, 'deck_id': '1jpw2h3nrvcd', 'remaining': 52, 'shuffled': True}\n"
     ]
    }
   ],
   "source": [
    " # This parses the response in Json format, \n",
    " # this also gives the deck ID that we want to use\n",
    "response_data = response.json()\n",
    "print(response_data)\n",
    "   \n",
    "    \n"
   ]
  },
  {
   "cell_type": "code",
   "execution_count": 69,
   "metadata": {},
   "outputs": [
    {
     "name": "stdout",
     "output_type": "stream",
     "text": [
      "1jpw2h3nrvcd\n"
     ]
    }
   ],
   "source": [
    "# Now I can access the 'deck_id' from the parsed JSON dictionary to use in the next step.\n",
    "\n",
    "deck_id = response_data[\"deck_id\"]\n",
    "print(deck_id)\n"
   ]
  },
  {
   "cell_type": "code",
   "execution_count": 70,
   "metadata": {},
   "outputs": [
    {
     "name": "stdout",
     "output_type": "stream",
     "text": [
      "Success!\n",
      "{'success': True, 'deck_id': '1jpw2h3nrvcd', 'cards': [{'code': '7C', 'image': 'https://deckofcardsapi.com/static/img/7C.png', 'images': {'svg': 'https://deckofcardsapi.com/static/img/7C.svg', 'png': 'https://deckofcardsapi.com/static/img/7C.png'}, 'value': '7', 'suit': 'CLUBS'}, {'code': '7H', 'image': 'https://deckofcardsapi.com/static/img/7H.png', 'images': {'svg': 'https://deckofcardsapi.com/static/img/7H.svg', 'png': 'https://deckofcardsapi.com/static/img/7H.png'}, 'value': '7', 'suit': 'HEARTS'}, {'code': 'QS', 'image': 'https://deckofcardsapi.com/static/img/QS.png', 'images': {'svg': 'https://deckofcardsapi.com/static/img/QS.svg', 'png': 'https://deckofcardsapi.com/static/img/QS.png'}, 'value': 'QUEEN', 'suit': 'SPADES'}, {'code': '4S', 'image': 'https://deckofcardsapi.com/static/img/4S.png', 'images': {'svg': 'https://deckofcardsapi.com/static/img/4S.svg', 'png': 'https://deckofcardsapi.com/static/img/4S.png'}, 'value': '4', 'suit': 'SPADES'}, {'code': '8H', 'image': 'https://deckofcardsapi.com/static/img/8H.png', 'images': {'svg': 'https://deckofcardsapi.com/static/img/8H.svg', 'png': 'https://deckofcardsapi.com/static/img/8H.png'}, 'value': '8', 'suit': 'HEARTS'}], 'remaining': 47}\n",
      "The card drawn is 7 of CLUBS:\n"
     ]
    },
    {
     "data": {
      "text/html": [
       "<img src=\"https://deckofcardsapi.com/static/img/7C.png\"/>"
      ],
      "text/plain": [
       "<IPython.core.display.Image object>"
      ]
     },
     "metadata": {},
     "output_type": "display_data"
    },
    {
     "name": "stdout",
     "output_type": "stream",
     "text": [
      "The card drawn is 7 of HEARTS:\n"
     ]
    },
    {
     "data": {
      "text/html": [
       "<img src=\"https://deckofcardsapi.com/static/img/7H.png\"/>"
      ],
      "text/plain": [
       "<IPython.core.display.Image object>"
      ]
     },
     "metadata": {},
     "output_type": "display_data"
    },
    {
     "name": "stdout",
     "output_type": "stream",
     "text": [
      "The card drawn is QUEEN of SPADES:\n"
     ]
    },
    {
     "data": {
      "text/html": [
       "<img src=\"https://deckofcardsapi.com/static/img/QS.png\"/>"
      ],
      "text/plain": [
       "<IPython.core.display.Image object>"
      ]
     },
     "metadata": {},
     "output_type": "display_data"
    },
    {
     "name": "stdout",
     "output_type": "stream",
     "text": [
      "The card drawn is 4 of SPADES:\n"
     ]
    },
    {
     "data": {
      "text/html": [
       "<img src=\"https://deckofcardsapi.com/static/img/4S.png\"/>"
      ],
      "text/plain": [
       "<IPython.core.display.Image object>"
      ]
     },
     "metadata": {},
     "output_type": "display_data"
    },
    {
     "name": "stdout",
     "output_type": "stream",
     "text": [
      "The card drawn is 8 of HEARTS:\n"
     ]
    },
    {
     "data": {
      "text/html": [
       "<img src=\"https://deckofcardsapi.com/static/img/8H.png\"/>"
      ],
      "text/plain": [
       "<IPython.core.display.Image object>"
      ]
     },
     "metadata": {},
     "output_type": "display_data"
    }
   ],
   "source": [
    "# Next I get the response from using the deck id to draw 5 cards from the deck\n",
    "\n",
    "draw_card_api = f\"https://deckofcardsapi.com/api/deck/{deck_id}/draw/?count=5\"\n",
    "draw_card = requests.get(draw_card_api)\n",
    "\n",
    "# We can check if it works by checking the status code , 200 means that it is a success and 404 means it was not found.\n",
    "\n",
    "if draw_card.status_code == 200:\n",
    "    print(\"Success!\")\n",
    "elif draw_card.status_code == 404:\n",
    "    print(\"Not Found.\")\n",
    "\n",
    "\n",
    "response_draw = draw_card.json()\n",
    "\n",
    "print(response_draw)\n",
    "\n",
    "# Using IPython.display we can show the image of the cards as they are returned from the api , We can use a loop to show the cards.\n",
    "\n",
    "cards = response_draw['cards']\n",
    "for card in cards:\n",
    "    card_image_url = card['image'] \n",
    "    print(f\"The card drawn is {card['value']} of {card['suit']}:\")\n",
    "    display(Image(url=card_image_url)) \n",
    "\n"
   ]
  },
  {
   "cell_type": "code",
   "execution_count": 71,
   "metadata": {},
   "outputs": [
    {
     "name": "stdout",
     "output_type": "stream",
     "text": [
      "Congratulations! You have drawn a pair!\n"
     ]
    }
   ],
   "source": [
    "# I want to show if there is a pair or a triple and congratulate them if they have.\n",
    "\n",
    "values = [card['value'] for card in cards]\n",
    "value_counts = {value: values.count(value) for value in set(values)}\n",
    "\n",
    "if 3 in value_counts.values():\n",
    "    print(\"Congratulations! You have a triple!\")\n",
    "elif 2 in value_counts.values():\n",
    "    print(\"Congratulations! You have drawn a pair!\")\n",
    "else:\n",
    "    print(\"Sorry! You have not drawn a pair or triple!\")"
   ]
  }
 ],
 "metadata": {
  "kernelspec": {
   "display_name": "base",
   "language": "python",
   "name": "python3"
  },
  "language_info": {
   "codemirror_mode": {
    "name": "ipython",
    "version": 3
   },
   "file_extension": ".py",
   "mimetype": "text/x-python",
   "name": "python",
   "nbconvert_exporter": "python",
   "pygments_lexer": "ipython3",
   "version": "3.12.4"
  }
 },
 "nbformat": 4,
 "nbformat_minor": 2
}
